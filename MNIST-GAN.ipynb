{
 "cells": [
  {
   "cell_type": "code",
   "execution_count": 1,
   "metadata": {
    "collapsed": true
   },
   "outputs": [],
   "source": [
    "from dataget import data\n",
    "import tfinterface as ti\n",
    "import sonnet as snt\n",
    "import tensorflow as tf\n",
    "import numpy as np\n",
    "from matplotlib import pyplot as plt\n",
    "import cytoolz as cz"
   ]
  },
  {
   "cell_type": "code",
   "execution_count": 2,
   "metadata": {
    "collapsed": true
   },
   "outputs": [],
   "source": [
    "dataset = data(\"mnist\").get()\n",
    "\n",
    "traning_set = dataset.complete_set\n",
    "\n",
    "traning_set.df = traning_set.df.sample(frac=1)"
   ]
  },
  {
   "cell_type": "code",
   "execution_count": 3,
   "metadata": {},
   "outputs": [],
   "source": [
    "class Discriminator(snt.AbstractModule):\n",
    "    \n",
    "    def _build(self, inputs):\n",
    "        \n",
    "        print(\"##########################\")\n",
    "        print(\"## Discriminator\")\n",
    "        print(\"##########################\")\n",
    "        \n",
    "        net = inputs[\"image\"]; print(net)\n",
    "        training = inputs[\"mode\"] == tf.estimator.ModeKeys.TRAIN\n",
    "        \n",
    "        net = ti.layers.conv2d_batch_norm(net, 16, [5, 5], strides = 2, activation = tf.nn.elu, padding = \"same\", batch_norm = dict(training = training)); print(net)\n",
    "        net = ti.layers.conv2d_batch_norm(net, 32, [3, 3], strides = 2, activation = tf.nn.elu, padding = \"valid\", batch_norm = dict(training = training)); print(net)\n",
    "        net = ti.layers.conv2d_batch_norm(net, 64, [3, 3], strides = 2, activation = tf.nn.elu, padding = \"valid\", batch_norm = dict(training = training)); print(net)\n",
    "        net = ti.layers.conv2d_batch_norm(net, 128, [2, 2], strides = 2, activation = tf.nn.elu, padding = \"same\", batch_norm = dict(training = training)); print(net)\n",
    "\n",
    "        \n",
    "        net = tf.contrib.layers.flatten(net); print(net)\n",
    "        \n",
    "        net = ti.layers.dense_batch_norm(net, 64, activation = tf.nn.elu, batch_norm = dict(training = training)); print(net)\n",
    "        net = logits = tf.layers.dense(net, 1, activation = None); print(net)\n",
    "#         net = tf.nn.sigmoid(net); print(net)\n",
    "        \n",
    "        return logits\n",
    "    \n",
    "    \n",
    "class Generator(snt.AbstractModule):\n",
    "    \n",
    "    def _build(self, inputs):\n",
    "        \n",
    "        print(\"##########################\")\n",
    "        print(\"## Generator\")\n",
    "        print(\"##########################\")\n",
    "        \n",
    "        training = inputs[\"mode\"] == tf.estimator.ModeKeys.TRAIN\n",
    "        net = inputs[\"embedding\"]; print(net)\n",
    "        \n",
    "        net = ti.layers.conv2d_transpose_batch_norm(net, 512, [2, 2], strides = 1, activation = tf.nn.elu, \n",
    "                                                    padding = \"valid\", batch_norm = dict(training = training)); print(net)\n",
    "        net = ti.layers.conv2d_transpose_batch_norm(net, 256, [3, 3], strides = 2, activation = tf.nn.elu, \n",
    "                                                    padding = \"valid\", batch_norm = dict(training = training)); print(net)\n",
    "        net = ti.layers.conv2d_transpose_batch_norm(net, 128, [3, 3], strides = 2, activation = tf.nn.elu, \n",
    "                                                    padding = \"same\", batch_norm = dict(training = training)); print(net)\n",
    "        net = ti.layers.conv2d_transpose_batch_norm(net, 1, [3, 3], strides = 2, activation = tf.nn.tanh, \n",
    "                                                    padding = \"same\", batch_norm = dict(training = training)); print(net)\n",
    "        \n",
    "        net = (net + 1.0) / 2.0\n",
    "        \n",
    "        \n",
    "        return net"
   ]
  },
  {
   "cell_type": "code",
   "execution_count": 4,
   "metadata": {},
   "outputs": [
    {
     "name": "stdout",
     "output_type": "stream",
     "text": [
      "##########################\n",
      "## Discriminator\n",
      "##########################\n",
      "Tensor(\"input_layer_1:0\", shape=(?, 28, 28, 1), dtype=float32)\n",
      "Tensor(\"discriminator/Conv2dBatchNorm/Elu:0\", shape=(?, 14, 14, 16), dtype=float32)\n",
      "Tensor(\"discriminator/Conv2dBatchNorm_1/Elu:0\", shape=(?, 6, 6, 32), dtype=float32)\n",
      "Tensor(\"discriminator/Conv2dBatchNorm_2/Elu:0\", shape=(?, 2, 2, 64), dtype=float32)\n",
      "Tensor(\"discriminator/Conv2dBatchNorm_3/Elu:0\", shape=(?, 1, 1, 128), dtype=float32)\n",
      "Tensor(\"discriminator/Flatten/flatten/Reshape:0\", shape=(?, 128), dtype=float32)\n",
      "Tensor(\"discriminator/DenseBatchNorm/Elu:0\", shape=(?, 64), dtype=float32)\n",
      "Tensor(\"discriminator/dense/BiasAdd:0\", shape=(?, 1), dtype=float32)\n",
      "\n",
      "##########################\n",
      "## Generator\n",
      "##########################\n",
      "Tensor(\"input_layer_2:0\", shape=(?, 2, 2, 25), dtype=float32)\n",
      "Tensor(\"generator/Conv2dTransposeBatchNorm/Elu:0\", shape=(?, 3, 3, 512), dtype=float32)\n",
      "Tensor(\"generator/Conv2dTransposeBatchNorm_1/Elu:0\", shape=(?, 7, 7, 256), dtype=float32)\n",
      "Tensor(\"generator/Conv2dTransposeBatchNorm_2/Elu:0\", shape=(?, 14, 14, 128), dtype=float32)\n",
      "Tensor(\"generator/Conv2dTransposeBatchNorm_3/Tanh:0\", shape=(?, 28, 28, 1), dtype=float32)\n"
     ]
    }
   ],
   "source": [
    "\n",
    "inputs = dict(\n",
    "    image = tf.layers.Input(shape=(28, 28, 1)),\n",
    "    embedding = tf.layers.Input(shape=(2, 2, 25)),\n",
    "    mode = tf.estimator.ModeKeys.TRAIN,\n",
    ")\n",
    "\n",
    "D = Discriminator(name = \"discriminator\")\n",
    "G = Generator(name = \"generator\")\n",
    "\n",
    "d = D(inputs)\n",
    "print(\"\")\n",
    "g = G(inputs)"
   ]
  },
  {
   "cell_type": "code",
   "execution_count": 7,
   "metadata": {},
   "outputs": [
    {
     "name": "stdout",
     "output_type": "stream",
     "text": [
      "(28, 28)\n"
     ]
    },
    {
     "data": {
      "image/png": "[encoded data removed]",
      "text/plain": [
       "<matplotlib.figure.Figure at 0x7fb0878dd4d0>"
      ]
     },
     "metadata": {},
     "output_type": "display_data"
    }
   ],
   "source": [
    "with tf.Session() as sess:\n",
    "\n",
    "    sample = np.random.uniform(size=(1, 2, 2, 25))\n",
    "    embedding = inputs[\"embedding\"]\n",
    "\n",
    "    sess.run(tf.global_variables_initializer())\n",
    "\n",
    "    img = sess.run(g, feed_dict={embedding: sample})\n",
    "\n",
    "    img = np.squeeze(img * 255).astype(np.uint8)\n",
    "\n",
    "    print(img.shape)\n",
    "    plt.imshow(img, cmap=\"gray\")\n",
    "    plt.show()"
   ]
  },
  {
   "cell_type": "code",
   "execution_count": 10,
   "metadata": {},
   "outputs": [
    {
     "name": "stdout",
     "output_type": "stream",
     "text": [
      "[-0.80438405  0.17998689  0.86870277  0.25770384 -0.79762101  1.79292715\n",
      " -0.4907597   0.42706612 -1.97899985 -1.07301307]\n",
      "[ 0.24800056 -0.79969704 -0.43454173 -0.62807518 -0.18873358  0.06134527\n",
      "  0.53475362  1.59782529 -0.36821562  0.16880761]\n",
      "[ 0.35414001  1.09281123  0.76988405 -1.26530111 -0.74630004 -1.1514312\n",
      "  0.15728365 -1.23153365  1.52408457  0.02062935]\n",
      "[ 0.23047844  0.541161    0.70365369 -1.12630451 -0.31736249  0.18063359\n",
      " -1.18972969  0.6422689  -0.27404967  1.02846265]\n",
      "[ 0.58901626 -0.62731767 -0.32021815  2.16040683  0.67771691  0.27794921\n",
      " -0.0030562   1.98268807  0.3053109   0.0378434 ]\n",
      "[-1.5147922   0.87447494 -0.08610281 -0.22825362  0.54801422  0.25722119\n",
      "  1.70355248 -0.72932774 -0.48296347 -1.93788028]\n",
      "[-0.07331083  0.2724714  -0.28440446 -1.91525364 -0.38384095  0.9620108\n",
      " -2.55129218 -0.80453628  2.04576969  1.38955617]\n",
      "[-1.99117982  0.88143957 -1.0284071   1.09301054 -0.20038006 -0.77247131\n",
      " -1.58456731  0.23823227 -0.77203387 -1.57239795]\n",
      "[-1.55924702 -0.69477928  0.14775775 -1.55657065  0.33592969 -1.43609118\n",
      "  0.95228428  0.82510656  0.06130167 -1.72672212]\n",
      "[-1.64313459 -0.45360807  0.3988831  -0.4076477  -0.52957213 -2.14873767\n",
      "  0.18267184  0.37307629 -0.96568215 -0.45565426]\n"
     ]
    }
   ],
   "source": [
    "class IteratorHook(tf.train.SessionRunHook):\n",
    "        \n",
    "    def after_create_session(self, session, coord):\n",
    "        self.sess = session\n",
    "    \n",
    "    def before_run(self, context):\n",
    "        self.sess.run(self.iterator.initializer)\n",
    "\n",
    "\n",
    "       \n",
    "ds = tf.data.Dataset.from_tensor_slices(tf.random_normal([5, 10]))\n",
    "ds = ds.repeat(10)\n",
    "# ds = ds.batch(5)\n",
    "\n",
    "it = ds.make_initializable_iterator()\n",
    "rnd = it.get_next()\n",
    "\n",
    "it_hook = IteratorHook()\n",
    "it_hook.iterator = it\n",
    "\n",
    "\n",
    "with tf.train.MonitoredSession(hooks=[it_hook]) as sess:\n",
    "    for i in range(10):\n",
    "        print(sess.run(rnd))\n"
   ]
  },
  {
   "cell_type": "code",
   "execution_count": 11,
   "metadata": {},
   "outputs": [],
   "source": [
    "class IteratorHook(tf.train.SessionRunHook):\n",
    "        \n",
    "    def after_create_session(self, session, coord):\n",
    "        self.sess = session\n",
    "    \n",
    "    def before_run(self, context):\n",
    "        self.sess.run(self.iterator.initializer)\n",
    "\n",
    "def get_train_input_fn(df, img_shape = [28, 28], embeddings_shape = [2, 2, 25], epochs = 10, batch_size = 64):\n",
    "    hook = IteratorHook()\n",
    "    \n",
    "    def train_input_fn():\n",
    "\n",
    "        def parse(filename):\n",
    "\n",
    "            img = tf.read_file(filename)\n",
    "            img = tf.image.decode_jpeg(img, channels = 1)\n",
    "            img = tf.image.resize_images(img, img_shape)\n",
    "\n",
    "            return img\n",
    "\n",
    "        def embeddings():\n",
    "            for i in range(len(df)):\n",
    "                yield np.random.normal(size=embeddings_shape)\n",
    "\n",
    "        \n",
    "        # ds_images\n",
    "        ds_images = tf.data.Dataset.from_tensor_slices(df.filename.as_matrix())\n",
    "        ds_images = ds_images.map(parse)\n",
    "        ds_images = ds_images.shuffle(buffer_size = 1000)\n",
    "        ds_images = ds_images.batch(batch_size)\n",
    "        \n",
    "        #ds_embeddings\n",
    "        ds_embeddings = tf.data.Dataset.from_tensors(tf.random_normal([batch_size] + embeddings_shape))\n",
    "        \n",
    "        # zip\n",
    "        ds = tf.data.Dataset.zip((ds_images, ds_embeddings))\n",
    "        \n",
    "        # repeat\n",
    "        ds = ds.repeat(epochs)\n",
    "\n",
    "        # get iterator\n",
    "        iterator = ds.make_initializable_iterator()\n",
    "        image, embedding = iterator.get_next()\n",
    "        \n",
    "        # set iterator\n",
    "        hook.iterator = iterator\n",
    "\n",
    "        return dict(image = image, embedding = embedding), None\n",
    "    \n",
    "    return train_input_fn, hook"
   ]
  },
  {
   "cell_type": "code",
   "execution_count": 12,
   "metadata": {},
   "outputs": [
    {
     "name": "stdout",
     "output_type": "stream",
     "text": [
      "{'image': <tf.Tensor 'IteratorGetNext_2:0' shape=(?, 28, 28, 1) dtype=float32>, 'embedding': <tf.Tensor 'IteratorGetNext_2:1' shape=(20, 2, 2, 25) dtype=float32>}\n"
     ]
    },
    {
     "name": "stderr",
     "output_type": "stream",
     "text": [
      "/home/cristian/anaconda2/lib/python2.7/site-packages/matplotlib/figure.py:403: UserWarning: matplotlib is currently using a non-GUI backend, so cannot show the figure\n",
      "  \"matplotlib is currently using a non-GUI backend, \"\n"
     ]
    },
    {
     "data": {
      "image/png": "[encoded data removed]",
      "text/plain": [
       "<matplotlib.figure.Figure at 0x7fb08a56d350>"
      ]
     },
     "metadata": {},
     "output_type": "display_data"
    },
    {
     "data": {
      "image/png": "[encoded data removed]",
      "text/plain": [
       "<matplotlib.figure.Figure at 0x7fb0786c4650>"
      ]
     },
     "metadata": {},
     "output_type": "display_data"
    },
    {
     "data": {
      "image/png": "[encoded data removed]",
      "text/plain": [
       "<matplotlib.figure.Figure at 0x7fb078649f90>"
      ]
     },
     "metadata": {},
     "output_type": "display_data"
    },
    {
     "data": {
      "image/png": "[encoded data removed]",
      "text/plain": [
       "<matplotlib.figure.Figure at 0x7fb089cd6510>"
      ]
     },
     "metadata": {},
     "output_type": "display_data"
    }
   ],
   "source": [
    "input_fn, it_hook = get_train_input_fn(traning_set.df, batch_size=20)\n",
    "\n",
    "features, _ = input_fn()\n",
    "image = features[\"image\"]\n",
    "\n",
    "print(features)\n",
    "\n",
    "with tf.train.MonitoredSession(hooks=[it_hook]) as sess:\n",
    "    \n",
    "    images = sess.run(image)\n",
    "\n",
    "    for images in cz.partition(5, images):\n",
    "\n",
    "        fig, axes = plt.subplots(1, 5, subplot_kw=dict())\n",
    "\n",
    "        for i, img in enumerate(images):\n",
    "\n",
    "\n",
    "            img = np.squeeze(img).astype(np.uint8)\n",
    "\n",
    "            axes[i].imshow(img, cmap=\"gray\")\n",
    "\n",
    "        fig.show()\n",
    "\n",
    "    plt.show()"
   ]
  },
  {
   "cell_type": "code",
   "execution_count": 13,
   "metadata": {
    "collapsed": true
   },
   "outputs": [],
   "source": [
    "def model_fn(features, labels, mode, params):\n",
    "    \n",
    "    image = features[\"image\"]\n",
    "    embedding = features[\"embedding\"]\n",
    "    \n",
    "    D = Discriminator(name = \"discriminator\")\n",
    "    G = Generator(name = \"generator\")\n",
    "    \n",
    "    # generator predictions\n",
    "    fake_image = G(dict(\n",
    "        embedding = embedding,\n",
    "        mode = mode,\n",
    "    ))\n",
    "    \n",
    "    \n",
    "    if mode == tf.estimator.ModeKeys.PREDICT:\n",
    "        return tf.estimator.EstimatorSpec(\n",
    "            mode = mode,\n",
    "            predictions = fake_image\n",
    "        )\n",
    "    \n",
    "    \n",
    "    \n",
    "    # d_loss_real\n",
    "    d_logits_real = D(dict(\n",
    "        image = image,\n",
    "        mode = mode,\n",
    "    ))\n",
    "    \n",
    "    is_real = tf.ones_like(real_d_logits, dtype=tf.float32)\n",
    "    \n",
    "    d_loss_real = tf.losses.sigmoid_cross_entropy(is_real, d_logits_real)\n",
    "    d_loss_real = tf.reduce_mean(d_loss_real)\n",
    "    \n",
    "    # d_loss_fake\n",
    "    d_logits_fake = D(dict(\n",
    "        image = fake_image,\n",
    "        mode = mode,\n",
    "    ))\n",
    "    \n",
    "    is_fake = tf.zeros_like(d_logits_fake, dtype=tf.float32)\n",
    "    \n",
    "    d_loss_fake = tf.losses.sigmoid_cross_entropy(is_fake, d_logits_fake)\n",
    "    d_loss_fake = tf.reduce_mean(d_loss_fake)\n",
    "    \n",
    "    # d_loss\n",
    "    d_loss = d_loss_real + d_loss_fake\n",
    "    \n",
    "    # g_loss\n",
    "    g_loss = tf.losses.sigmoid_cross_entropy(is_real, d_logits_fake)\n",
    "    \n",
    "    # global loss\n",
    "    loss = g_loss + d_loss\n",
    "    \n",
    "    if mode == tf.estimator.ModeKeys.EVAL:\n",
    "        return tf.estimator.EstimatorSpec(\n",
    "            mode = mode,\n",
    "            predictions = net,\n",
    "            loss = loss\n",
    "        )\n",
    "    \n",
    "    \n",
    "    #updates\n",
    "    d_update = tf.train.AdamOptimizer(params[\"learning_rate\"]).minimize(\n",
    "        d_loss,\n",
    "        global_step = params[\"global_step\"],\n",
    "        var_list = D.get_variables(),\n",
    "    )\n",
    "    \n",
    "    g_update = tf.train.AdamOptimizer(params[\"learning_rate\"]).minimize(\n",
    "        g_loss,\n",
    "        global_step = params[\"global_step\"],\n",
    "        var_list = G.get_variables(),\n",
    "    )\n",
    "    \n",
    "    # general update with batch_norm updates\n",
    "    update_ops = tf.get_collection(tf.GraphKeys.UPDATE_OPS)\n",
    "    \n",
    "    with tf.control_dependencies(update_ops):\n",
    "        update = tf.group(d_update, g_update)\n",
    "    \n",
    "    return tf.estimator.EstimatorSpec(\n",
    "        mode = mode,\n",
    "        predictions = net,\n",
    "        loss = loss,\n",
    "        train_op = update\n",
    "    )"
   ]
  },
  {
   "cell_type": "code",
   "execution_count": 14,
   "metadata": {},
   "outputs": [
    {
     "name": "stdout",
     "output_type": "stream",
     "text": [
      "##########################\n",
      "## Generator\n",
      "##########################\n",
      "Tensor(\"IteratorGetNext_2:1\", shape=(20, 2, 2, 25), dtype=float32)\n",
      "Tensor(\"generator_1/Conv2dTransposeBatchNorm/Elu:0\", shape=(20, 3, 3, 512), dtype=float32)\n",
      "Tensor(\"generator_1/Conv2dTransposeBatchNorm_1/Elu:0\", shape=(20, 7, 7, 256), dtype=float32)\n",
      "Tensor(\"generator_1/Conv2dTransposeBatchNorm_2/Elu:0\", shape=(20, 14, 14, 128), dtype=float32)\n",
      "Tensor(\"generator_1/Conv2dTransposeBatchNorm_3/Tanh:0\", shape=(20, 28, 28, 1), dtype=float32)\n"
     ]
    }
   ],
   "source": [
    "global_step = tf.train.get_global_step()\n",
    "\n",
    "model_spec = model_fn(features, None, tf.estimator.ModeKeys.PREDICT, params = dict(\n",
    "    global_step = global_step,\n",
    "    learning_rate = 0.001\n",
    "))"
   ]
  },
  {
   "cell_type": "code",
   "execution_count": 18,
   "metadata": {},
   "outputs": [],
   "source": [
    "global_variables_initializer = tf.global_variables_initializer()\n",
    "\n",
    "with tf.train.MonitoredSession(hooks=[it_hook]) as sess:\n",
    "    sess.run(global_variables_initializer)\n",
    "    preds = sess.run(model_spec.predictions)"
   ]
  },
  {
   "cell_type": "code",
   "execution_count": 20,
   "metadata": {},
   "outputs": [
    {
     "data": {
      "text/plain": [
       "(20, 28, 28, 1)"
      ]
     },
     "execution_count": 20,
     "metadata": {},
     "output_type": "execute_result"
    }
   ],
   "source": [
    "model = tf.estimator.Estimator()"
   ]
  }
 ],
 "metadata": {
  "kernelspec": {
   "display_name": "Python 2",
   "language": "python",
   "name": "python2"
  },
  "language_info": {
   "codemirror_mode": {
    "name": "ipython",
    "version": 2
   },
   "file_extension": ".py",
   "mimetype": "text/x-python",
   "name": "python",
   "nbconvert_exporter": "python",
   "pygments_lexer": "ipython2",
   "version": "2.7.13"
  }
 },
 "nbformat": 4,
 "nbformat_minor": 2
}
