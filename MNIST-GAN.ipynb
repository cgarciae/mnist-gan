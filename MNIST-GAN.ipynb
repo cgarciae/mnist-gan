{
 "cells": [
  {
   "cell_type": "code",
   "execution_count": 73,
   "metadata": {
    "collapsed": true
   },
   "outputs": [],
   "source": [
    "from dataget import data\n",
    "import tfinterface as ti\n",
    "import sonnet as snt\n",
    "import tensorflow as tf\n",
    "import numpy as np\n",
    "from matplotlib import pyplot as plt\n",
    "import cytoolz as cz\n",
    "\n",
    "sess = tf.InteractiveSession()"
   ]
  },
  {
   "cell_type": "code",
   "execution_count": 64,
   "metadata": {
    "collapsed": true
   },
   "outputs": [],
   "source": [
    "dataset = data(\"mnist\").get()\n",
    "\n",
    "traning_set = dataset.complete_set\n",
    "\n",
    "traning_set.df = traning_set.df.sample(frac=1)"
   ]
  },
  {
   "cell_type": "code",
   "execution_count": 5,
   "metadata": {},
   "outputs": [],
   "source": [
    "class Discriminator(snt.AbstractModule):\n",
    "    \n",
    "    def _build(self, inputs):\n",
    "        \n",
    "        net = inputs[\"image\"]; print(net)\n",
    "        training = inputs[\"mode\"] == tf.estimator.ModeKeys.TRAIN\n",
    "        \n",
    "        net = ti.layers.conv2d_batch_norm(net, 16, [5, 5], strides = 2, activation = tf.nn.elu, padding = \"same\", batch_norm = dict(training = training)); print(net)\n",
    "        net = ti.layers.conv2d_batch_norm(net, 32, [3, 3], strides = 2, activation = tf.nn.elu, padding = \"valid\", batch_norm = dict(training = training)); print(net)\n",
    "        net = ti.layers.conv2d_batch_norm(net, 64, [3, 3], strides = 2, activation = tf.nn.elu, padding = \"valid\", batch_norm = dict(training = training)); print(net)\n",
    "        net = ti.layers.conv2d_batch_norm(net, 128, [2, 2], strides = 2, activation = tf.nn.elu, padding = \"same\", batch_norm = dict(training = training)); print(net)\n",
    "\n",
    "        \n",
    "        net = tf.contrib.layers.flatten(net); print(net)\n",
    "        \n",
    "        net = ti.layers.dense_batch_norm(net, 64, activation = tf.nn.elu, batch_norm = dict(training = training)); print(net)\n",
    "        net = logits = tf.layers.dense(net, 1, activation = None); print(net)\n",
    "#         net = tf.nn.sigmoid(net); print(net)\n",
    "        \n",
    "        return logits\n",
    "    \n",
    "    \n",
    "class Generator(snt.AbstractModule):\n",
    "    \n",
    "    def _build(self, inputs):\n",
    "        \n",
    "        \n",
    "        training = inputs[\"mode\"] == tf.estimator.ModeKeys.TRAIN\n",
    "        net = inputs[\"embedding\"]; print(net)\n",
    "        \n",
    "        net = ti.layers.conv2d_transpose_batch_norm(net, 512, [2, 2], strides = 1, activation = tf.nn.elu, \n",
    "                                                    padding = \"valid\", batch_norm = dict(training = training)); print(net)\n",
    "        net = ti.layers.conv2d_transpose_batch_norm(net, 256, [3, 3], strides = 2, activation = tf.nn.elu, \n",
    "                                                    padding = \"valid\", batch_norm = dict(training = training)); print(net)\n",
    "        net = ti.layers.conv2d_transpose_batch_norm(net, 128, [3, 3], strides = 2, activation = tf.nn.elu, \n",
    "                                                    padding = \"same\", batch_norm = dict(training = training)); print(net)\n",
    "        net = ti.layers.conv2d_transpose_batch_norm(net, 1, [3, 3], strides = 2, activation = tf.nn.tanh, \n",
    "                                                    padding = \"same\", batch_norm = dict(training = training)); print(net)\n",
    "        \n",
    "        net = (net + 1.0) / 2.0\n",
    "        \n",
    "        \n",
    "        return net"
   ]
  },
  {
   "cell_type": "code",
   "execution_count": 6,
   "metadata": {},
   "outputs": [
    {
     "name": "stdout",
     "output_type": "stream",
     "text": [
      "Discriminator\n",
      "Tensor(\"input_layer_3:0\", shape=(?, 28, 28, 1), dtype=float32)\n",
      "Tensor(\"discriminator/Conv2dBatchNorm/Elu:0\", shape=(?, 14, 14, 16), dtype=float32)\n",
      "Tensor(\"discriminator/Conv2dBatchNorm_1/Elu:0\", shape=(?, 6, 6, 32), dtype=float32)\n",
      "Tensor(\"discriminator/Conv2dBatchNorm_2/Elu:0\", shape=(?, 2, 2, 64), dtype=float32)\n",
      "Tensor(\"discriminator/Conv2dBatchNorm_3/Elu:0\", shape=(?, 1, 1, 128), dtype=float32)\n",
      "Tensor(\"discriminator/Flatten/flatten/Reshape:0\", shape=(?, 128), dtype=float32)\n",
      "Tensor(\"discriminator/DenseBatchNorm/Elu:0\", shape=(?, 64), dtype=float32)\n",
      "Tensor(\"discriminator/dense/BiasAdd:0\", shape=(?, 1), dtype=float32)\n",
      "\n",
      "Generator\n",
      "Tensor(\"input_layer_4:0\", shape=(?, 2, 2, 25), dtype=float32)\n",
      "Tensor(\"generator/Conv2dTransposeBatchNorm/Elu:0\", shape=(?, 3, 3, 512), dtype=float32)\n",
      "Tensor(\"generator/Conv2dTransposeBatchNorm_1/Elu:0\", shape=(?, 7, 7, 256), dtype=float32)\n",
      "Tensor(\"generator/Conv2dTransposeBatchNorm_2/Elu:0\", shape=(?, 14, 14, 128), dtype=float32)\n",
      "Tensor(\"generator/Conv2dTransposeBatchNorm_3/Tanh:0\", shape=(?, 28, 28, 1), dtype=float32)\n"
     ]
    }
   ],
   "source": [
    "inputs = dict(\n",
    "    image = tf.layers.Input(shape=(28, 28, 1)),\n",
    "    embedding = tf.layers.Input(shape=(2, 2, 25)),\n",
    "    mode = tf.estimator.ModeKeys.TRAIN,\n",
    ")\n",
    "\n",
    "D = Discriminator(name = \"discriminator\")\n",
    "G = Generator(name = \"generator\")\n",
    "\n",
    "print(\"Discriminator\")\n",
    "\n",
    "d = D(inputs)\n",
    "print(\"\")\n",
    "print(\"Generator\")\n",
    "g = G(inputs)"
   ]
  },
  {
   "cell_type": "code",
   "execution_count": 35,
   "metadata": {},
   "outputs": [
    {
     "name": "stdout",
     "output_type": "stream",
     "text": [
      "(28, 28)\n"
     ]
    },
    {
     "data": {
      "image/png": "[encoded data removed]",
      "text/plain": [
       "<matplotlib.figure.Figure at 0x7f65612cbc50>"
      ]
     },
     "metadata": {},
     "output_type": "display_data"
    }
   ],
   "source": [
    "sample = np.random.uniform(size=(1, 2, 2, 25))\n",
    "embedding = inputs[\"embedding\"]\n",
    "\n",
    "sess.run(tf.global_variables_initializer())\n",
    "\n",
    "img = sess.run(g, feed_dict={embedding: sample})\n",
    "\n",
    "img = np.squeeze(img * 255).astype(np.uint8)\n",
    "\n",
    "print(img.shape)\n",
    "plt.imshow(img, cmap=\"gray\")\n",
    "plt.show()"
   ]
  },
  {
   "cell_type": "code",
   "execution_count": 87,
   "metadata": {},
   "outputs": [],
   "source": [
    "def input_fn(df, img_shape = [28, 28], embeddings_shape = [2, 2, 25], epochs = 10, batch_size = 64):\n",
    "    \n",
    "    def parse(filename):\n",
    "        \n",
    "        img = tf.read_file(filename)\n",
    "        img = tf.image.decode_jpeg(img, channels = 1)\n",
    "        img = tf.image.resize_images(img, img_shape)\n",
    "    \n",
    "        return img\n",
    "    \n",
    "    def embeddings():\n",
    "        for i in range(len(df)):\n",
    "            yield np.random.normal(size=embeddings_shape)\n",
    "    \n",
    "    \n",
    "    ds = tf.data.Dataset.from_tensor_slices(df.filename.as_matrix())\n",
    "    ds = ds.map(parse)\n",
    "    \n",
    "    \n",
    "    ds1 = tf.data.Dataset.from_generator(\n",
    "        embeddings,\n",
    "        \n",
    "    )\n",
    "    \n",
    "    ds = ds.shuffle(buffer_size = 1000)\n",
    "    ds = ds.batch(batch_size)\n",
    "    ds = ds.repeat(epochs)\n",
    "    \n",
    "    it = ds.make_one_shot_iterator()\n",
    "    img = it.get_next()\n",
    "    \n",
    "    \n",
    "    return img\n",
    "\n"
   ]
  },
  {
   "cell_type": "code",
   "execution_count": 90,
   "metadata": {},
   "outputs": [
    {
     "data": {
      "image/png": "[encoded data removed]",
      "text/plain": [
       "<matplotlib.figure.Figure at 0x7f654029b590>"
      ]
     },
     "metadata": {},
     "output_type": "display_data"
    },
    {
     "data": {
      "image/png": "[encoded data removed]",
      "text/plain": [
       "<matplotlib.figure.Figure at 0x7f652a4fffd0>"
      ]
     },
     "metadata": {},
     "output_type": "display_data"
    },
    {
     "data": {
      "image/png": "[encoded data removed]",
      "text/plain": [
       "<matplotlib.figure.Figure at 0x7f6593611c90>"
      ]
     },
     "metadata": {},
     "output_type": "display_data"
    },
    {
     "data": {
      "image/png": "[encoded data removed]",
      "text/plain": [
       "<matplotlib.figure.Figure at 0x7f6592931090>"
      ]
     },
     "metadata": {},
     "output_type": "display_data"
    }
   ],
   "source": [
    "image = input_fn(traning_set.df, batch_size=20)\n",
    "\n",
    "images = sess.run(image)\n",
    "\n",
    "for images in cz.partition(5, images):\n",
    "    \n",
    "    fig, axes = plt.subplots(1, 5, subplot_kw=dict())\n",
    "    \n",
    "    for i, img in enumerate(images):\n",
    "        \n",
    "        \n",
    "        img = np.squeeze(img).astype(np.uint8)\n",
    "    \n",
    "        axes[i].imshow(img, cmap=\"gray\")\n",
    "    \n",
    "    fig.show()\n",
    "    \n",
    "plt.show()"
   ]
  },
  {
   "cell_type": "code",
   "execution_count": 58,
   "metadata": {},
   "outputs": [
    {
     "data": {
      "text/plain": [
       "array([[  0,   0,   0,   0,   0,   0,   0,   0,   0,   0,   0,   0,   0,\n",
       "          0,   0,   0,   0,   0,   0,   0,   0,   0,   0,   0,   0,   0,\n",
       "          0,   0],\n",
       "       [  0,   0,   0,   0,   0,   0,   0,   0,   0,   0, 254,   0,   0,\n",
       "          0,   0,   0,   0,   0,   0,   0,   0,   0,   0,   0,   0,   0,\n",
       "          0,   0],\n",
       "       [  0,   0,   0,   0,   0,   0,   0,   0,   0, 252,   0, 252,   0,\n",
       "        254, 254,   0, 251, 254,   0,   0,   0,   0,   0,   0,   0,   0,\n",
       "          0,   0],\n",
       "       [  0,   0,   0,   0,   0,   0,   0,   0,   0,   0, 252,   0, 250,\n",
       "        252, 252, 253,   0,   0, 247,   0, 255,   0,   0, 254,   0,   0,\n",
       "          0,   0],\n",
       "       [  0,   0,   0,   0,   0,   0,   0,   0,   0,   0,   0, 250,   0,\n",
       "        254, 249, 238, 102,   1,  47,  82, 252,   0,   0,   0,   0,   0,\n",
       "          0,   0],\n",
       "       [  0,   0,   0,   0,   0,   0,   0,   0,   0,   0, 254, 255, 252,\n",
       "        250, 221,  30,   1,   1,  40,  67, 255,   0,   0, 254,   0,   0,\n",
       "          0,   0],\n",
       "       [  0,   0,   0,   0,   0,   0,   0,   0,   0,   0, 253, 251, 250,\n",
       "        226,  27,   1,   1,   1,   1,   5, 101,   0,   0,   0,   0,   0,\n",
       "          0,   0],\n",
       "       [  0,   0,   0,   0,   0,   0,   0,   0,   0,   0,   0, 254, 176,\n",
       "         19,   1,   1,   1,   1,   1,   1,  16, 150,   0, 251,   0,   0,\n",
       "          0,   0],\n",
       "       [  0,   0,   0,   0,   0,   0,   0,   0, 251,   0, 245, 230,  32,\n",
       "         11,   1,   1,   1,   1, 123,   1,   9,  31, 230,   0,   0,   0,\n",
       "          0,   0],\n",
       "       [  0, 252,   0,   0,   0,   0,   0,   0, 252, 252,   0,  56,  17,\n",
       "          4, 135,   1,  42, 181,   0, 119,   7,   1, 206,   0,   0,   0,\n",
       "          0,   0],\n",
       "       [  0,   0, 255,   0, 254,   0, 254,   0, 249, 247,  72,  11,   7,\n",
       "        215, 244, 196, 222, 254,   0, 120,  13,   1, 211,   0,   0,   0,\n",
       "          0,   0],\n",
       "       [  0,   0,   0, 252,   0,   0, 254, 253,   0, 122,   8,   2, 130,\n",
       "        252,   0, 251, 252,   0, 251, 121,   6,  26, 220, 255,   0,   0,\n",
       "          0,   0],\n",
       "       [  0,   0,   0,   0, 253, 255,   0, 254, 161,   1,   9,  95, 255,\n",
       "        248,   0,   0, 239, 254, 251,  39,   1,  85, 249,   0,   0,   0,\n",
       "          0,   0],\n",
       "       [  0,   0,   0, 254, 254,   0, 254, 212,  25,   8,  14, 228, 251,\n",
       "          0,   0,   0, 254,   0, 253,  11,   1, 139,   0, 253,   0,   0,\n",
       "          0,   0],\n",
       "       [  0,   0, 254, 251,   0, 255, 248,  41,   2,   1, 218, 247,   0,\n",
       "        253,   0,   0, 251,   0, 130,  19,  46,   0, 249, 253,   0,   0,\n",
       "          0,   0],\n",
       "       [  0,   0,   0, 251, 255,   0, 162,   1,   1,  45, 246,   0,   0,\n",
       "          0,   0,   0,   0,   0,  31,  12,  83,   0,   0, 248,   0,   0,\n",
       "          0,   0],\n",
       "       [  0,   0, 249,   0, 246, 213,  13,   1,  13, 180,   0,   0, 252,\n",
       "          0,   0,   0, 249, 216,   7,   1, 165,   0,   0,   0,   0,   0,\n",
       "          0,   0],\n",
       "       [  0,   0,   0, 255, 248, 202,   1,   1, 102,   0,   0,   0,   0,\n",
       "          0,   0,   0, 251, 109,   1,   7, 204,   0,   0,   0,   0,   0,\n",
       "          0,   0],\n",
       "       [  0,   0, 253,   0, 251, 205,   1,   1, 128,   0,   0,   0, 255,\n",
       "          0,   0,   0, 194,   1,   1, 128,   0,   0,   0, 254,   0,   0,\n",
       "          0,   0],\n",
       "       [  0,   0,   0, 252,   0, 203,   2,   1, 102, 251,   0,   0,   0,\n",
       "          0,   0, 241, 113,   1,   8, 207,   0,   0,   0, 254,   0,   0,\n",
       "          0,   0],\n",
       "       [  0,   0,   0,   0, 255, 206,   6,   1,   3, 150, 228, 248, 245,\n",
       "        250, 198,  45,   2,   4, 192, 252, 255,   0,   0,   0,   0,   0,\n",
       "          0,   0],\n",
       "       [  0,   0,   0, 252,   0, 240,  83,   1,   1,   1,  44,  63,  70,\n",
       "         68,   1,   1,   1,  72,   0,   0,   0,   0,   0,   0,   0,   0,\n",
       "          0,   0],\n",
       "       [  0,   0,   0, 252,   0, 251, 243,  77,   3,   1,   1,   1,   1,\n",
       "          1,   1,   2,  99, 230, 250,   0, 251,   0,   0,   0,   0,   0,\n",
       "          0,   0],\n",
       "       [  0,   0,   0,   0,   0, 253,   0, 245, 173, 102,   1,   1,   3,\n",
       "          1, 113, 188, 249, 253,   0, 254,   0,   0,   0,   0,   0,   0,\n",
       "          0,   0],\n",
       "       [  0,   0,   0,   0,   0,   0,   0,   0,   0,   0,   0,   0,   0,\n",
       "          0,   0,   0,   0,   0,   0,   0,   0,   0,   0,   0,   0,   0,\n",
       "          0,   0],\n",
       "       [  0,   0,   0,   0,   0,   0,   0,   0,   0,   0,   0,   0,   0,\n",
       "          0,   0,   0,   0,   0,   0,   0,   0,   0,   0,   0,   0,   0,\n",
       "          0,   0],\n",
       "       [  0,   0,   0,   0,   0,   0,   0,   0,   0,   0,   0,   0,   0,\n",
       "          0,   0,   0,   0,   0,   0,   0,   0,   0,   0,   0,   0,   0,\n",
       "          0,   0],\n",
       "       [  0,   0,   0,   0,   0,   0,   0,   0,   0,   0,   0,   0,   0,\n",
       "          0,   0,   0,   0,   0,   0,   0,   0,   0,   0,   0,   0,   0,\n",
       "          0,   0]], dtype=uint8)"
      ]
     },
     "execution_count": 58,
     "metadata": {},
     "output_type": "execute_result"
    }
   ],
   "source": [
    "img"
   ]
  },
  {
   "cell_type": "code",
   "execution_count": 48,
   "metadata": {
    "collapsed": true
   },
   "outputs": [],
   "source": [
    "def model_fn(features, labels, mode, params):\n",
    "    \n",
    "    image = labels[\"image\"]\n",
    "    embedding = features[\"embedding\"]\n",
    "    \n",
    "    D = Discriminator(name = \"discriminator\")\n",
    "    G = Generator(name = \"generator\")\n",
    "    \n",
    "    \n",
    "    if mode == tf.estimator.ModeKeys.PREDICT:\n",
    "        net = G(dict(\n",
    "            embedding = embedding\n",
    "        ))\n",
    "        \n",
    "        return tf.estimator.EstimatorSpec(\n",
    "            mode = mode,\n",
    "            predictions = net\n",
    "        )\n",
    "    \n",
    "    \n",
    "    \n",
    "    # d_loss_real\n",
    "    d_logits_real = D(dict(\n",
    "        image = image\n",
    "    ))\n",
    "    \n",
    "    is_real = tf.ones_like(real_d_logits, dtype=tf.float32)\n",
    "    \n",
    "    d_loss_real = tf.losses.sigmoid_cross_entropy(is_real, d_logits_real)\n",
    "    d_loss_real = tf.reduce_mean(d_loss_real)\n",
    "    \n",
    "    # d_loss_fake\n",
    "    fake_image = G(dict(\n",
    "        embedding = embedding\n",
    "    ))\n",
    "    \n",
    "    d_logits_fake = D(dict(\n",
    "        image = fake_image\n",
    "    ))\n",
    "    \n",
    "    is_fake = tf.zeros_like(d_logits_fake, dtype=tf.float32)\n",
    "    \n",
    "    d_loss_fake = tf.losses.sigmoid_cross_entropy(is_fake, d_logits_fake)\n",
    "    d_loss_fake = tf.reduce_mean(d_loss_fake)\n",
    "    \n",
    "    # d_loss\n",
    "    d_loss = d_loss_real + d_loss_fake\n",
    "    \n",
    "    # g_loss\n",
    "    g_loss = tf.losses.sigmoid_cross_entropy(is_real, d_logits_fake)\n",
    "    \n",
    "    # global loss\n",
    "    loss = g_loss + d_loss\n",
    "    \n",
    "    if mode == tf.estimator.ModeKeys.EVAL:\n",
    "        return tf.estimator.EstimatorSpec(\n",
    "            mode = mode,\n",
    "            predictions = net,\n",
    "            loss = loss\n",
    "        )\n",
    "    \n",
    "    \n",
    "    #updates\n",
    "    \n",
    "    d_update = tf.train.AdamOptimizer(params[\"learning_rate\"]).minimize(d_loss, \n",
    "                                                                        global_step = params[\"global_step\"])\n",
    "    \n",
    "    g_update = tf.train.AdamOptimizer(params[\"learning_rate\"]).minimize(g_loss,\n",
    "                                                                        global_step = params[\"global_step\"])\n",
    "    \n",
    "    update = tf.group(d_update, g_update)\n",
    "    \n",
    "    return tf.estimator.EstimatorSpec(\n",
    "        mode = mode,\n",
    "        predictions = net,\n",
    "        loss = loss,\n",
    "        train_op = update\n",
    "    )"
   ]
  },
  {
   "cell_type": "code",
   "execution_count": 7,
   "metadata": {},
   "outputs": [
    {
     "data": {
      "text/plain": [
       "(2, 2, 25)"
      ]
     },
     "execution_count": 7,
     "metadata": {},
     "output_type": "execute_result"
    }
   ],
   "source": []
  }
 ],
 "metadata": {
  "kernelspec": {
   "display_name": "Python 2",
   "language": "python",
   "name": "python2"
  },
  "language_info": {
   "codemirror_mode": {
    "name": "ipython",
    "version": 2
   },
   "file_extension": ".py",
   "mimetype": "text/x-python",
   "name": "python",
   "nbconvert_exporter": "python",
   "pygments_lexer": "ipython2",
   "version": "2.7.13"
  }
 },
 "nbformat": 4,
 "nbformat_minor": 2
}
