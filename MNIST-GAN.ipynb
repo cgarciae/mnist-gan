{
 "cells": [
  {
   "cell_type": "code",
   "execution_count": 11,
   "metadata": {
    "collapsed": true
   },
   "outputs": [],
   "source": [
    "from dataget import data\n",
    "import tfinterface as ti\n",
    "import sonnet as snt\n",
    "import tensorflow as tf"
   ]
  },
  {
   "cell_type": "code",
   "execution_count": 2,
   "metadata": {},
   "outputs": [],
   "source": [
    "dataset = data(\"mnist\").get()"
   ]
  },
  {
   "cell_type": "code",
   "execution_count": 3,
   "metadata": {
    "collapsed": true
   },
   "outputs": [],
   "source": [
    "traning_set = dataset.complete_set"
   ]
  },
  {
   "cell_type": "code",
   "execution_count": 55,
   "metadata": {},
   "outputs": [],
   "source": [
    "class Discriminator(snt.AbstractModule):\n",
    "    \n",
    "    def _build(self, inputs):\n",
    "        \n",
    "        net = inputs[\"image\"]; print(net)\n",
    "        training = inputs[\"mode\"] == tf.estimator.ModeKeys.TRAIN\n",
    "        \n",
    "        net = ti.layers.conv2d_batch_norm(net, 16, [5, 5], strides = 2, activation = tf.nn.elu, padding = \"same\", batch_norm = dict(training = training)); print(net)\n",
    "        net = ti.layers.conv2d_batch_norm(net, 32, [3, 3], strides = 2, activation = tf.nn.elu, padding = \"valid\", batch_norm = dict(training = training)); print(net)\n",
    "        net = ti.layers.conv2d_batch_norm(net, 64, [3, 3], strides = 2, activation = tf.nn.elu, padding = \"valid\", batch_norm = dict(training = training)); print(net)\n",
    "        net = ti.layers.conv2d_batch_norm(net, 128, [2, 2], strides = 2, activation = tf.nn.elu, padding = \"same\", batch_norm = dict(training = training)); print(net)\n",
    "\n",
    "        \n",
    "        net = tf.contrib.layers.flatten(net); print(net)\n",
    "        \n",
    "        net = ti.layers.dense_batch_norm(net, 64, activation = tf.nn.elu, batch_norm = dict(training = training)); print(net)\n",
    "        net = logits = tf.layers.dense(net, 1, activation = None); print(net)\n",
    "#         net = tf.nn.sigmoid(net); print(net)\n",
    "        \n",
    "        return logits\n",
    "    \n",
    "    \n",
    "class Generator(snt.AbstractModule):\n",
    "    \n",
    "    def _build(self, inputs):\n",
    "        \n",
    "        net = inputs[\"image\"]; print(net)\n",
    "        training = inputs[\"mode\"] == tf.estimator.ModeKeys.TRAIN\n",
    "        \n",
    "        net = ti.layers.conv2d_batch_norm(net, 16, [5, 5], strides = 2, activation = tf.nn.elu, padding = \"same\", batch_norm = dict(training = training)); print(net)\n",
    "        net = ti.layers.conv2d_batch_norm(net, 32, [3, 3], strides = 2, activation = tf.nn.elu, padding = \"valid\", batch_norm = dict(training = training)); print(net)\n",
    "        net = ti.layers.conv2d_batch_norm(net, 64, [3, 3], strides = 2, activation = tf.nn.elu, padding = \"valid\", batch_norm = dict(training = training)); print(net)\n",
    "        net = ti.layers.conv2d_batch_norm(net, 128, [2, 2], strides = 2, activation = tf.nn.elu, padding = \"same\", batch_norm = dict(training = training)); print(net)\n",
    "\n",
    "        \n",
    "        net = tf.contrib.layers.flatten(net); print(net)\n",
    "        \n",
    "        net = ti.layers.dense_batch_norm(net, 64, activation = tf.nn.elu, batch_norm = dict(training = training)); print(net)\n",
    "        net = logits = tf.layers.dense(net, 1, activation = None); print(net)\n",
    "#         net = tf.nn.sigmoid(net); print(net)\n",
    "        \n",
    "        return logits"
   ]
  },
  {
   "cell_type": "code",
   "execution_count": null,
   "metadata": {
    "collapsed": true
   },
   "outputs": [],
   "source": []
  },
  {
   "cell_type": "code",
   "execution_count": 56,
   "metadata": {},
   "outputs": [
    {
     "name": "stdout",
     "output_type": "stream",
     "text": [
      "AAAAAAAAA\n",
      "Tensor(\"input_layer_5:0\", shape=(?, 28, 28, 1), dtype=float32)\n",
      "Tensor(\"discriminator_19/Conv2dBatchNorm/Elu:0\", shape=(?, 14, 14, 16), dtype=float32)\n",
      "Tensor(\"discriminator_19/Conv2dBatchNorm_1/Elu:0\", shape=(?, 6, 6, 32), dtype=float32)\n",
      "Tensor(\"discriminator_19/Conv2dBatchNorm_2/Elu:0\", shape=(?, 2, 2, 64), dtype=float32)\n",
      "Tensor(\"discriminator_19/Conv2dBatchNorm_3/Elu:0\", shape=(?, 1, 1, 128), dtype=float32)\n",
      "Tensor(\"discriminator_19/Flatten/flatten/Reshape:0\", shape=(?, 128), dtype=float32)\n",
      "Tensor(\"discriminator_19/DenseBatchNorm/Elu:0\", shape=(?, 64), dtype=float32)\n",
      "Tensor(\"discriminator_19/dense/BiasAdd:0\", shape=(?, 1), dtype=float32)\n"
     ]
    },
    {
     "data": {
      "text/plain": [
       "<tf.Tensor 'discriminator_19/dense/BiasAdd:0' shape=(?, 1) dtype=float32>"
      ]
     },
     "execution_count": 56,
     "metadata": {},
     "output_type": "execute_result"
    }
   ],
   "source": [
    "inputs = dict(\n",
    "    image = tf.layers.Input(shape=(28, 28, 1)),\n",
    "    mode = tf.estimator.ModeKeys.TRAIN\n",
    ")\n",
    "\n",
    "d = Discriminator(name = \"discriminator\")\n",
    "d(inputs)"
   ]
  },
  {
   "cell_type": "code",
   "execution_count": 18,
   "metadata": {},
   "outputs": [
    {
     "name": "stdout",
     "output_type": "stream",
     "text": [
      "Tensor(\"discriminator_1/conv2d/Elu:0\", shape=(?, 12, 12, 16), dtype=float32)\n",
      "Tensor(\"discriminator_1/conv2d_2/Elu:0\", shape=(?, 5, 5, 32), dtype=float32)\n",
      "Tensor(\"discriminator_1/conv2d_3/Elu:0\", shape=(?, 2, 2, 64), dtype=float32)\n"
     ]
    },
    {
     "data": {
      "text/plain": [
       "<tf.Tensor 'discriminator_1/conv2d_3/Elu:0' shape=(?, 2, 2, 64) dtype=float32>"
      ]
     },
     "execution_count": 18,
     "metadata": {},
     "output_type": "execute_result"
    }
   ],
   "source": []
  }
 ],
 "metadata": {
  "kernelspec": {
   "display_name": "Python 2",
   "language": "python",
   "name": "python2"
  },
  "language_info": {
   "codemirror_mode": {
    "name": "ipython",
    "version": 2
   },
   "file_extension": ".py",
   "mimetype": "text/x-python",
   "name": "python",
   "nbconvert_exporter": "python",
   "pygments_lexer": "ipython2",
   "version": "2.7.13"
  }
 },
 "nbformat": 4,
 "nbformat_minor": 2
}
